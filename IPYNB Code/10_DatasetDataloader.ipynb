{
 "cells": [
  {
   "cell_type": "markdown",
   "metadata": {},
   "source": [
    "# Dataset dan Dataloader\n",
    "Pada percobaan ini kita tidak melakukan training apapun. Percobaan ini hanya untuk mengetahui bagaimana data yang diberikan dalam bentuk dataset dan dataloader.\n",
    "\n",
    "### Perlu diketahui\n",
    "- Satu epoch terdiri atas satu kali forward pass dan satu kali backward pass terhadap seluruh training samples\n",
    "- ```batch_size``` adalah banyaknya training sample dalam satu kali forward & backward pass\n",
    "- Jumlah iterasi adalah banyaknya pass dimana jumlah sampel setiap pass tergantung dari ```batch_size```\n",
    "\n",
    "**Misalnya**\n",
    "Terdapat 100 samples, dengan ```batch_size = 20```. Artinya adalah 100 dibagi 20, sehingga terdapat 5 iterasi dalam satu epoch\n",
    "\n",
    "### Mengimport library\n",
    "- ```torchvision``` berbeda dengan ```torch```. ```torchvision``` adalah bagian dari PyTorch yang berisi popular datasets, model architecture, dan beberapa transformasi citra\n",
    "- ```torch.utils.data``` berisi fungsi untuk dataloader\n",
    "- ```torch.nn``` berisi fungsi untuk neural network"
   ]
  },
  {
   "cell_type": "code",
   "execution_count": null,
   "metadata": {},
   "outputs": [],
   "source": [
    "import torch\n",
    "from torch.utils.data import Dataset, DataLoader\n",
    "import numpy as np"
   ]
  },
  {
   "cell_type": "markdown",
   "metadata": {},
   "source": [
    "### Tentang Dataset Wine\n",
    "- Dataset ini berisi sampel data terkait kategori dari wine\n",
    "- Terdapat 13 buah feature, yaitu: Alcohol,Malic.acid,Ash,Acl,Mg,Phenols,Flavanoids,Nonflavanoid.phenols,Proanth,Color.int,Hue,OD,Proline\n",
    "- Terdapat 178 sampel terhadap tiga buah kelas"
   ]
  },
  {
   "cell_type": "code",
   "execution_count": null,
   "metadata": {},
   "outputs": [],
   "source": [
    "class WineDataset(Dataset):\n",
    "    def __init__(self):\n",
    "        xy = np.loadtxt('wine_dataset/wine.csv', delimiter=',', dtype=np.float32,\n",
    "                        skiprows=1)  # skip row 1 karena row 1 adalah header\n",
    "        self.x = xy[:, 1:]  # mengabaikan kolom indeks-0 karena kolom tersebut adalah kelasnya\n",
    "        self.y = xy[:, [0]]\n",
    "\n",
    "        # konversi menjadi tensor\n",
    "        self.x = torch.from_numpy(self.x)\n",
    "        self.y = torch.from_numpy(self.y)\n",
    "\n",
    "        # mengambil banyaknya sampel\n",
    "        self.n_samples = xy.shape[0]\n",
    "\n",
    "    def __getitem__(self, index):\n",
    "        return self.x[index], self.y[index]\n",
    "\n",
    "    def __len__(self):\n",
    "        return self.n_samples"
   ]
  },
  {
   "cell_type": "markdown",
   "metadata": {},
   "source": [
    "Sedikit mengulang tentang konsep OOP di python:\n",
    "- ```__init__``` adalah fungsi yang pertama kali dijalankan ketika class di-instansiasi.\n",
    "- ```__getitem__``` adalah fungsi yang akan dijalankan ketika melakukan pengambilan data dari dataset.\n",
    "- ```__len__``` adalah fungsi yang akan dijalankan ketika melakukan pengambilan jumlah data dari dataset."
   ]
  },
  {
   "cell_type": "code",
   "execution_count": null,
   "metadata": {
    "pycharm": {
     "name": "#%%\n"
    }
   },
   "outputs": [],
   "source": [
    "'''ketika kode di bawah ini dijalankan, ```__init__``` akan dijalankan juga'''\n",
    "dataset = WineDataset()\n",
    "\n",
    "dataPertama = dataset[0]\n",
    "''' ketika kode di bawah ini dijalankan, ```__getitem___``` akan dijalankan, bahwa kembaliannya adalah tuple, yaitu x dan y'''\n",
    "features, labels = dataPertama\n",
    "\n",
    "''' mencoba untuk mencetak dataset indeks ke 0'''\n",
    "print(features,labels)"
   ]
  },
  {
   "cell_type": "markdown",
   "metadata": {},
   "source": [
    "### Menggunakan DataLoader\n",
    "Dokumentasi terkait [```DataLoader```, silahkan klik di sini](https://pytorch.org/docs/stable/data.html#torch.utils.data.DataLoader)\n",
    "\n",
    "**Penjelasan tentang ```DataLoader``` di bawah ini:**\n",
    "- Argumen pertama adalah sumber dari dataset yaitu variabel ```dataset```\n",
    "- Argumen kedua menjelaskan besarnya batch, yakni 4\n",
    "- Argumen ketiga (```shuffle=True```) bertujuan untuk mengacak urutan dataset\n",
    "- Argumen keempat (```num_workers=2```) bertujuan untuk mengatur jumlah thread yang digunakan untuk membaca data. Apabila komputer anda tidak mendukung multiple thread, hapus bagian ini"
   ]
  },
  {
   "cell_type": "code",
   "execution_count": null,
   "metadata": {
    "pycharm": {
     "name": "#%%\n"
    }
   },
   "outputs": [],
   "source": [
    "dataloader = DataLoader(dataset, batch_size=4, shuffle=True)"
   ]
  },
  {
   "cell_type": "markdown",
   "metadata": {},
   "source": [
    "### Training Loop"
   ]
  },
  {
   "cell_type": "code",
   "execution_count": null,
   "metadata": {
    "pycharm": {
     "name": "#%%\n"
    }
   },
   "outputs": [],
   "source": [
    "num_epochs = 2\n",
    "\n",
    "''' Pada bagian di bawah inilah bagian __len__  dijalankan pada class WineDataset '''\n",
    "total_samples = len(dataset)\n",
    "\n",
    "''' Menggunakan 'double slash' // berarti melakukan pembulatan ke-bawah (flooring)'''\n",
    "n_iterations = total_samples // 4\n",
    "print(f'Jumlah Samples: {total_samples}, Jumlah Iterasi: {n_iterations}')"
   ]
  },
  {
   "cell_type": "code",
   "execution_count": null,
   "metadata": {
    "pycharm": {
     "name": "#%%\n"
    }
   },
   "outputs": [],
   "source": [
    "for epoch in range(num_epochs):\n",
    "    for i, (inputs, labels) in enumerate(dataloader):\n",
    "        # forward pass\n",
    "        print(f'Epoch {epoch + 1}/{num_epochs}, Iteration {i + 1}/{n_iterations}, inputs {inputs.shape}, labels {labels.shape}')\n"
   ]
  }
 ],
 "metadata": {
  "interpreter": {
   "hash": "81b9ccaf5ef21c8a6faa6d42f6e42fcf9eafd7625a2befdd601079168fccee32"
  },
  "kernelspec": {
   "display_name": "Python 3.8.13 ('py38')",
   "language": "python",
   "name": "python3"
  },
  "language_info": {
   "codemirror_mode": {
    "name": "ipython",
    "version": 3
   },
   "file_extension": ".py",
   "mimetype": "text/x-python",
   "name": "python",
   "nbconvert_exporter": "python",
   "pygments_lexer": "ipython3",
   "version": "3.8.13"
  }
 },
 "nbformat": 4,
 "nbformat_minor": 2
}
