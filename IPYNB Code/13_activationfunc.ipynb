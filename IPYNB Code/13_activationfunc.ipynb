{
 "cells": [
  {
   "cell_type": "markdown",
   "source": [
    "# Activation Function\n",
    "**Apa yang dimaksud dengan fungsi aktivasi?**\n",
    "- Elemen pada neural network terdiri atas input, hidden, dan output\n",
    "- Activation function menentukan apakah sebuah neuron diaktifkan atau tidak\n",
    "- Penentuan ini didasarkan terhadap perhitungan dari weighted sum dan bias\n",
    "- Fungsi aktivasi membuat sebuah neuron menjadi tidak linear (tanpa fungsi aktivasi, neuron akan selalu jadi linear)\n",
    "\n",
    "<div>\n",
    "<img src=\"assets/actfunct.jpeg\" width=\"400\"/>\n",
    "</div>"
   ],
   "metadata": {
    "collapsed": false
   }
  },
  {
   "cell_type": "markdown",
   "source": [
    "## Cara Implementasi Fungsi Aktivasi"
   ],
   "metadata": {
    "collapsed": false
   }
  },
  {
   "cell_type": "code",
   "execution_count": 1,
   "metadata": {
    "collapsed": true
   },
   "outputs": [],
   "source": [
    "import torch\n",
    "import torch.nn as nn\n",
    "import torch.nn.functional as F"
   ]
  },
  {
   "cell_type": "markdown",
   "source": [
    "### Cara Pertama\n",
    "- Cara ini menggunakan ```nn.linear``` untuk mendeklarasikan fungsi aktivasi\n",
    "- Fungsi aktivasi diletakkan pada constructor\n",
    "- Fungsi aktivasi dijalankan pada bagian ```forward```"
   ],
   "metadata": {
    "collapsed": false
   }
  },
  {
   "cell_type": "code",
   "execution_count": 2,
   "outputs": [],
   "source": [
    "class NeuralNet(nn.Module):\n",
    "    # Constructor\n",
    "    def __init__(self, input_size, hidden_size, output_size=1):\n",
    "        super(NeuralNet, self).__init__()\n",
    "        self.fc1 = nn.Linear(input_size, hidden_size)\n",
    "        self.relu = nn.ReLU()\n",
    "        self.fc2 = nn.Linear(hidden_size, output_size)\n",
    "        self.sigmoid = nn.Sigmoid()\n",
    "\n",
    "    # Forward pass\n",
    "    def forward(self, x):\n",
    "        out = self.fc1(x)\n",
    "        out = self.relu(out)\n",
    "        out = self.fc2(out)\n",
    "        out = self.sigmoid(out)\n",
    "        return out"
   ],
   "metadata": {
    "collapsed": false,
    "pycharm": {
     "name": "#%%\n"
    }
   }
  },
  {
   "cell_type": "markdown",
   "source": [
    "### Cara Kedua\n",
    "- Pada cara ini, fungsi aktivasi diletakkan pada forward pass\n",
    "- Fungsi aktivasi menggunakan library yang bersumber dari ```torch``` dan bukan dari ```nn```"
   ],
   "metadata": {
    "collapsed": false
   }
  },
  {
   "cell_type": "code",
   "execution_count": 3,
   "outputs": [],
   "source": [
    "class NeuralNet(nn.Module):\n",
    "    # Constructor\n",
    "    def __init__(self, input_size, hidden_size, output_size=1):\n",
    "        super(NeuralNet, self).__init__()\n",
    "        self.fc1 = nn.Linear(input_size, hidden_size)\n",
    "        self.fc2 = nn.Linear(hidden_size, output_size)\n",
    "\n",
    "    # Forward pass\n",
    "    def forward(self, x):\n",
    "        out = torch.relu(self.fc1(x))\n",
    "        out = torch.sigmoid(self.fc2(out))\n",
    "        return out"
   ],
   "metadata": {
    "collapsed": false,
    "pycharm": {
     "name": "#%%\n"
    }
   }
  },
  {
   "cell_type": "markdown",
   "source": [
    "### Cara Ketiga\n",
    "- Pada cara ini, fungsi aktivasi dipanggil menggunakan library yang bersumber dari ```torch.nn.functional```"
   ],
   "metadata": {
    "collapsed": false
   }
  },
  {
   "cell_type": "code",
   "execution_count": 4,
   "outputs": [],
   "source": [
    "class NeuralNet(nn.Module):\n",
    "    # Constructor\n",
    "    def __init__(self, input_size, hidden_size, output_size=1):\n",
    "        super(NeuralNet, self).__init__()\n",
    "        self.fc1 = nn.Linear(input_size, hidden_size)\n",
    "        self.fc2 = nn.Linear(hidden_size, output_size)\n",
    "\n",
    "    # Forward pass\n",
    "    def forward(self, x):\n",
    "        out = F.relu(self.fc1(x))\n",
    "        out = F.sigmoid(self.fc2(out))\n",
    "        return out"
   ],
   "metadata": {
    "collapsed": false,
    "pycharm": {
     "name": "#%%\n"
    }
   }
  }
 ],
 "metadata": {
  "kernelspec": {
   "display_name": "Python 3",
   "language": "python",
   "name": "python3"
  },
  "language_info": {
   "codemirror_mode": {
    "name": "ipython",
    "version": 2
   },
   "file_extension": ".py",
   "mimetype": "text/x-python",
   "name": "python",
   "nbconvert_exporter": "python",
   "pygments_lexer": "ipython2",
   "version": "2.7.6"
  }
 },
 "nbformat": 4,
 "nbformat_minor": 0
}