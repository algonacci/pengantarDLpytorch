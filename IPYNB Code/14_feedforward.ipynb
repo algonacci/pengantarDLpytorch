{
 "cells": [
  {
   "cell_type": "markdown",
   "source": [
    "# Feed Forward Neural Network\n",
    "Pada percobaan kali ini kita akan menggunakan dataset MNIST yaitu dataset yang berisi gambar-gambar angka tulisan tangan.\n",
    "\n",
    "**Import Library yang Digunakan**"
   ],
   "metadata": {
    "collapsed": false
   }
  },
  {
   "cell_type": "code",
   "execution_count": 1,
   "metadata": {
    "collapsed": true
   },
   "outputs": [],
   "source": [
    "import torch\n",
    "import torch.nn as nn\n",
    "import torchvision\n",
    "import torchvision.transforms as transforms\n",
    "import matplotlib.pyplot as plt\n",
    "from tqdm import tqdm"
   ]
  },
  {
   "cell_type": "markdown",
   "source": [
    "**Menggunakan GPU apabila memungkinkan**"
   ],
   "metadata": {
    "collapsed": false
   }
  },
  {
   "cell_type": "code",
   "execution_count": 2,
   "outputs": [],
   "source": [
    "device = torch.device('cuda' if torch.cuda.is_available() else 'cpu')"
   ],
   "metadata": {
    "collapsed": false,
    "pycharm": {
     "name": "#%%\n"
    }
   }
  },
  {
   "cell_type": "markdown",
   "source": [
    "**Hyperparameter**\n",
    "- input sebesar 794 didapat dari ukuran piksel pada satu buah gambar\n",
    "- output sebesar 10 didapat dari jumlah kelas yang ada, yaitu angka digit dari 0 - 9"
   ],
   "metadata": {
    "collapsed": false
   }
  },
  {
   "cell_type": "code",
   "execution_count": 3,
   "outputs": [],
   "source": [
    "input_size = 784\n",
    "hidden_size = 500\n",
    "num_classes = 10\n",
    "num_epochs = 2\n",
    "batch_size = 100\n",
    "learning_rate = 0.001"
   ],
   "metadata": {
    "collapsed": false,
    "pycharm": {
     "name": "#%%\n"
    }
   }
  },
  {
   "cell_type": "markdown",
   "source": [
    "### Mempersiapkan Dataset\n",
    "**Train Test**\n",
    "Torchvision menyediakan beberapa datasets yang kerap digunakan pada library ```torchvision.datasets```. Informasi lebih lanjut dapat dilihat pada [dokumentasi ```torchvision.datasets```](https://pytorch.org/vision/stable/datasets.html). Khusus untuk dataset MNIST, detail lebih lengkap dapat dilihat pada [tautan berikut ini](https://pytorch.org/vision/stable/generated/torchvision.datasets.MNIST.html#torchvision.datasets.MNIST).\n",
    "- ```root='./data'```: Lokasi dataset yang akan digunakan.\n",
    "- ```train=True```: Menentukan dataset yang digunakan untuk training atau tidak.\n",
    "- ```transform=transforms.ToTensor()```: Transformasi yang akan dilakukan pada dataset.\n",
    "- ```download=True```: Download dataset jika belum ada.\n",
    "\n",
    "**DataLoader**\n",
    "Detail tentang DataLoader dapat dilihat pada [dokumentasi berikut ini](https://pytorch.org/docs/stable/data.html).\n",
    "- ```dataset```: Dataset yang akan digunakan.\n",
    "- ```batch_size```: Banyaknya data yang akan dibatasi dalam satu batch.\n",
    "- ```shuffle```: Untuk membuat data diacak atau tidak."
   ],
   "metadata": {
    "collapsed": false
   }
  },
  {
   "cell_type": "code",
   "execution_count": 4,
   "outputs": [],
   "source": [
    "train_dataset = torchvision.datasets.MNIST(root='./data',\n",
    "                                           train=True,\n",
    "                                           transform=transforms.ToTensor(),\n",
    "                                           download=True)\n",
    "\n",
    "test_dataset = torchvision.datasets.MNIST(root='./data',\n",
    "                                           train=False,\n",
    "                                           transform=transforms.ToTensor())\n",
    "\n",
    "train_loader = torch.utils.data.DataLoader(dataset=train_dataset,\n",
    "                                           batch_size=batch_size,\n",
    "                                           shuffle=True)\n",
    "\n",
    "test_loader = torch.utils.data.DataLoader(dataset=test_dataset,\n",
    "                                           batch_size=batch_size,\n",
    "                                           shuffle=False)"
   ],
   "metadata": {
    "collapsed": false,
    "pycharm": {
     "name": "#%%\n"
    }
   }
  },
  {
   "cell_type": "markdown",
   "source": [],
   "metadata": {
    "collapsed": false
   }
  },
  {
   "cell_type": "code",
   "execution_count": 5,
   "outputs": [
    {
     "name": "stdout",
     "output_type": "stream",
     "text": [
      "Ukuran sample: torch.Size([100, 1, 28, 28])\n",
      "Ukuran label: torch.Size([100])\n"
     ]
    },
    {
     "data": {
      "text/plain": "<Figure size 720x288 with 6 Axes>",
      "image/png": "[encoded data removed]"
     },
     "metadata": {},
     "output_type": "display_data"
    }
   ],
   "source": [
    "example_batch = iter(train_loader)\n",
    "samples, labels = example_batch.next()\n",
    "print(f'Ukuran sample: {samples.shape}')\n",
    "print(f'Ukuran label: {labels.shape}')\n",
    "\n",
    "# show 6 samples image with label using subplot\n",
    "fig = plt.figure(figsize=(10, 4))\n",
    "for i in range(6):\n",
    "    plt.subplot(2, 3, i + 1)\n",
    "    plt.tight_layout()\n",
    "    plt.imshow(samples[i][0], cmap='gist_yarg')\n",
    "    plt.title(\"Digit: {}\".format(labels[i]))\n",
    "    plt.xticks([])\n",
    "    plt.yticks([])"
   ],
   "metadata": {
    "collapsed": false,
    "pycharm": {
     "name": "#%%\n"
    }
   }
  },
  {
   "cell_type": "markdown",
   "source": [
    "**Penjelasan Contoh Data**\n",
    "Terdapat 100 sampel data pada contoh batch yang dicetak dimana setiap gambar berukuran 28x28 pixel dan ditransformasi menjadi tensor dengan dimensi (1, 28, 28)."
   ],
   "metadata": {
    "collapsed": false
   }
  },
  {
   "cell_type": "markdown",
   "source": [
    "### Definisi Model"
   ],
   "metadata": {
    "collapsed": false
   }
  },
  {
   "cell_type": "code",
   "execution_count": 6,
   "outputs": [],
   "source": [
    "class NeuralNet(nn.Module):\n",
    "    def __init__(self, input_size, hidden_size, num_classes):\n",
    "        super(NeuralNet, self).__init__()\n",
    "        self.fc1 = nn.Linear(input_size, hidden_size)\n",
    "        self.relu = nn.ReLU()\n",
    "        self.fc2 = nn.Linear(hidden_size, num_classes)\n",
    "\n",
    "    def forward(self, x):\n",
    "        out = self.fc1(x)\n",
    "        out = self.relu(out)\n",
    "        out = self.fc2(out)\n",
    "        return out\n",
    "\n",
    "model = NeuralNet(input_size, hidden_size, num_classes).to(device)"
   ],
   "metadata": {
    "collapsed": false,
    "pycharm": {
     "name": "#%%\n"
    }
   }
  },
  {
   "cell_type": "markdown",
   "source": [
    "**Loss dan Optimizer**\n",
    "- Kita akan menggunakan ```CrossEntropyLoss``` untuk menghitung loss.\n",
    "- Pada loss function itu sudah terdapat ```Softmax``` yang akan menghasilkan probabilitas untuk setiap kelas.\n",
    "- Untuk optimizer, kita akan menggunakan ```Adam``` optimizer.\n",
    "- ```optimizer = torch.optim.Adam(model.parameters(), lr=learning_rate)```"
   ],
   "metadata": {
    "collapsed": false
   }
  },
  {
   "cell_type": "code",
   "execution_count": 7,
   "outputs": [],
   "source": [
    "criterion = nn.CrossEntropyLoss()\n",
    "optimizer = torch.optim.Adam(model.parameters(), lr=learning_rate)"
   ],
   "metadata": {
    "collapsed": false,
    "pycharm": {
     "name": "#%%\n"
    }
   }
  },
  {
   "cell_type": "markdown",
   "source": [
    "**Training Loop**\n",
    "- images perlu di reshape karena input yang kita gunakan pada neural network berukuran 784\n",
    "- sebelumnya images memiliki dimensi (1, 28, 28) -> 1 channel, 28 pixel panjang, 28 pixel lebar\n",
    "- Diubah menjadi array dengan dimensi (1, 784)"
   ],
   "metadata": {
    "collapsed": false
   }
  },
  {
   "cell_type": "code",
   "execution_count": 17,
   "outputs": [
    {
     "name": "stdout",
     "output_type": "stream",
     "text": [
      "Epoch [1/2], Step [100/600], Loss: 0.0019\n",
      "Epoch [1/2], Step [200/600], Loss: 0.0027\n",
      "Epoch [1/2], Step [300/600], Loss: 0.0079\n",
      "Epoch [1/2], Step [400/600], Loss: 0.0018\n",
      "Epoch [1/2], Step [500/600], Loss: 0.0051\n",
      "Epoch [1/2], Step [600/600], Loss: 0.0260\n",
      "Epoch [2/2], Step [100/600], Loss: 0.0004\n",
      "Epoch [2/2], Step [200/600], Loss: 0.0023\n",
      "Epoch [2/2], Step [300/600], Loss: 0.0004\n",
      "Epoch [2/2], Step [400/600], Loss: 0.0089\n",
      "Epoch [2/2], Step [500/600], Loss: 0.0021\n",
      "Epoch [2/2], Step [600/600], Loss: 0.0059\n"
     ]
    }
   ],
   "source": [
    "n_total_step = len(train_loader)\n",
    "\n",
    "for epoch in range(num_epochs):\n",
    "    for i, (images, labels) in enumerate(train_loader):\n",
    "        images = images.reshape(-1, 28*28).to(device)\n",
    "        labels = labels.to(device)\n",
    "\n",
    "        # Forward pass\n",
    "        outputs = model(images)\n",
    "        loss = criterion(outputs, labels)\n",
    "\n",
    "        # Backward pass\n",
    "        optimizer.zero_grad()\n",
    "        loss.backward()\n",
    "        optimizer.step()\n",
    "\n",
    "        if (i+1) % 100 == 0:\n",
    "            print(f'Epoch [{epoch+1}/{num_epochs}], Step [{i+1}/{n_total_step}], Loss: {loss.item():.4f}')\n",
    "\n",
    "\n"
   ],
   "metadata": {
    "collapsed": false,
    "pycharm": {
     "name": "#%%\n"
    }
   }
  },
  {
   "cell_type": "markdown",
   "source": [
    "### Testing the Model"
   ],
   "metadata": {
    "collapsed": false
   }
  },
  {
   "cell_type": "code",
   "execution_count": 9,
   "outputs": [
    {
     "name": "stdout",
     "output_type": "stream",
     "text": [
      "Akurasi: 97.07\n"
     ]
    }
   ],
   "source": [
    "with torch.no_grad():\n",
    "    n_correct = 0\n",
    "    n_samples = 0\n",
    "\n",
    "    for images, labels in test_loader:\n",
    "        images = images.reshape(-1, 28*28).to(device)\n",
    "        labels = labels.to(device)\n",
    "        outputs = model(images)\n",
    "        _, predicted = torch.max(outputs.data, 1)\n",
    "        n_samples += labels.size(0)\n",
    "        n_correct += (predicted == labels).sum().item()\n",
    "\n",
    "    accuracy = 100.0 * n_correct / n_samples\n",
    "    print(f'Akurasi: {accuracy}')"
   ],
   "metadata": {
    "collapsed": false,
    "pycharm": {
     "name": "#%%\n"
    }
   }
  },
  {
   "cell_type": "markdown",
   "source": [],
   "metadata": {
    "collapsed": false
   }
  }
 ],
 "metadata": {
  "kernelspec": {
   "display_name": "Python 3",
   "language": "python",
   "name": "python3"
  },
  "language_info": {
   "codemirror_mode": {
    "name": "ipython",
    "version": 2
   },
   "file_extension": ".py",
   "mimetype": "text/x-python",
   "name": "python",
   "nbconvert_exporter": "python",
   "pygments_lexer": "ipython2",
   "version": "2.7.6"
  }
 },
 "nbformat": 4,
 "nbformat_minor": 0
}