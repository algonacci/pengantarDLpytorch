{
 "cells": [
  {
   "cell_type": "markdown",
   "source": [
    "# Gradient Descent"
   ],
   "metadata": {
    "collapsed": false
   }
  },
  {
   "cell_type": "code",
   "execution_count": null,
   "metadata": {
    "collapsed": true
   },
   "outputs": [],
   "source": [
    "import numpy as np"
   ]
  },
  {
   "cell_type": "markdown",
   "source": [
    "### Inisiasi variabel"
   ],
   "metadata": {
    "collapsed": false
   }
  },
  {
   "cell_type": "code",
   "execution_count": null,
   "outputs": [],
   "source": [
    "X = np.array([1, 2, 3, 4], dtype=np.float32)\n",
    "Y = np.array([2, 4, 6, 8], dtype=np.float32)\n",
    "\n",
    "w = 0.0"
   ],
   "metadata": {
    "collapsed": false,
    "pycharm": {
     "name": "#%%\n"
    }
   }
  },
  {
   "cell_type": "code",
   "execution_count": null,
   "outputs": [],
   "source": [
    "# prediksi model\n",
    "def forward(x):\n",
    "    return w * x\n",
    "\n",
    "\n",
    "# loss function (dengan MSE)\n",
    "def loss(y, y_pred):\n",
    "    return ((y_pred - y) ** 2).mean()"
   ],
   "metadata": {
    "collapsed": false,
    "pycharm": {
     "name": "#%%\n"
    }
   }
  },
  {
   "cell_type": "markdown",
   "source": [
    "### Menghitung Gradient\n",
    "Gradient dihitung dengan turunan dari loss function\n",
    "$$MSE = \\frac{1}{n} \\sum_{i=1}^{n}(w*x-y)^2$$\n",
    "Sehingga:\n",
    "$$ \\frac{\\partial J}{\\partial w} = \\frac{1}{n} \\sum_{i=1}^{n} 2x(w*x-y)    $$"
   ],
   "metadata": {
    "collapsed": false
   }
  },
  {
   "cell_type": "code",
   "execution_count": null,
   "outputs": [],
   "source": [
    "def gradient(x, y, y_pred):\n",
    "    return np.dot(2 * x, y_pred - y).mean()\n",
    "\n",
    "\n",
    "# Mengecek nilai prediksi awal\n",
    "print(f'Prediksi sebelum training: f(5) = {forward(5):.3f}')"
   ],
   "metadata": {
    "collapsed": false,
    "pycharm": {
     "name": "#%%\n"
    }
   }
  },
  {
   "cell_type": "markdown",
   "source": [
    "### Melakukan Training"
   ],
   "metadata": {
    "collapsed": false
   }
  },
  {
   "cell_type": "code",
   "execution_count": null,
   "outputs": [],
   "source": [
    "learning_rate = 0.01\n",
    "n_iters = 10\n",
    "\n",
    "for epoch in range(n_iters):\n",
    "    # forward pass\n",
    "    y_pred = forward(X)\n",
    "    # backward pass\n",
    "    l = loss(Y, y_pred)\n",
    "\n",
    "    # menghitung gradient\n",
    "    grad = gradient(X, Y, y_pred)\n",
    "\n",
    "    # update nilai weight\n",
    "    w -= learning_rate * grad\n",
    "    print(f'Epoch {epoch + 1}: w = {w:.3f}, loss = {l:.3f}')\n",
    "\n",
    "# prediksi setelah training\n",
    "print(f'Prediksi setelah training: f(5) = {forward(5):.3f}')"
   ],
   "metadata": {
    "collapsed": false,
    "pycharm": {
     "name": "#%%\n"
    }
   }
  },
  {
   "cell_type": "markdown",
   "source": [
    "- Dapat diamati bahwa setiap proses training, loss akan semakin kecil\n",
    "- Setiap perulangan, algoritma akan memperbaharui nilai weight hingga nilai loss menjadi 0\n",
    "- Selanjutnya mari implementasi cara diatas dengan PyTorch"
   ],
   "metadata": {
    "collapsed": false
   }
  }
 ],
 "metadata": {
  "kernelspec": {
   "display_name": "Python 3",
   "language": "python",
   "name": "python3"
  },
  "language_info": {
   "codemirror_mode": {
    "name": "ipython",
    "version": 2
   },
   "file_extension": ".py",
   "mimetype": "text/x-python",
   "name": "python",
   "nbconvert_exporter": "python",
   "pygments_lexer": "ipython2",
   "version": "2.7.6"
  }
 },
 "nbformat": 4,
 "nbformat_minor": 0
}