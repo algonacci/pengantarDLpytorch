{
 "cells": [
  {
   "cell_type": "markdown",
   "metadata": {},
   "source": [
    "# Memahami Computational Graph\n",
    "![comp_graph](assets/compgraph.jpeg)\n",
    "\n",
    "Kita akan mensimulasikan model yang sama seperti di atas, namun dengan menggunakan pytorch"
   ]
  },
  {
   "cell_type": "code",
   "execution_count": null,
   "metadata": {
    "pycharm": {
     "name": "#%%\n"
    }
   },
   "outputs": [],
   "source": [
    "import torch\n",
    "\n",
    "a = torch.tensor([2.], requires_grad=True)\n",
    "b = torch.tensor([3.], requires_grad=True)\n",
    "d = torch.tensor([4.], requires_grad=True)\n",
    "c = a * b\n",
    "c.retain_grad()\n",
    "print(f'Nilai C = {c}')\n",
    "\n",
    "\n",
    "e = c * d\n",
    "print(f'Nilai E = {e}')\n",
    "\n",
    "e.backward()\n",
    "print(f'Nilai Gradient c = {c.grad}')\n",
    "print(f'Nilai Gradient d = {d.grad}')\n",
    "print(f'Nilai Gradient a = {a.grad}')\n",
    "print(f'Nilai Gradient b = {b.grad}')"
   ]
  },
  {
   "cell_type": "markdown",
   "metadata": {},
   "source": []
  },
  {
   "cell_type": "markdown",
   "metadata": {},
   "source": [
    "## Mari membahas maksud dari perhitungan yang dilakukan di atas\n",
    "# Gradient $c$\n",
    "- Nilai dari gradient $c$ terhadap $e$ adalah 4\n",
    "- Hal ini menunjukkan seberapa pengaruh dari nilai $c$ terhadap $e$ atau dalam persamaan dihitung sebagai $\\frac{\\partial e}{\\partial c}$\n",
    "- Kenaikan satu nilai dari $c$ akan mempengaruhi nilai $e$ dengan sebesar 4\n",
    "\n",
    "# Gradient $d$\n",
    "- Nilai dari gradient $d$ terhadap $e$ adalah 6\n",
    "- Hal ini menunjukkan seberapa pengaruh dari nilai $d$ terhadap $e$ atau dalam persamaan dihitung sebagai $\\frac{\\partial e}{\\partial d}$\n",
    "- Kenaikan satu nilai dari $d$ akan mempengaruhi nilai $e$ dengan sebesar 6\n",
    "\n",
    "# Gradient $a$\n",
    "- Nilai dari gradient $a$ terhadap $e$ adalah 12\n",
    "- Hal ini menunjukkan seberapa pengaruh dari nilai $a$ terhadap $e$ atau dalam persamaan dihitung sebagai $\\frac{\\partial e}{\\partial a} = \\frac{\\partial e}{\\partial c} . \\frac{\\partial c}{\\partial a}$\n",
    "- Kenaikan satu nilai dari $a$ akan mempengaruhi nilai $e$ dengan sebesar 12\n",
    "\n",
    "# Gradient $b$\n",
    "- Nilai dari gradient $b$ terhadap $e$ adalah 8\n",
    "- Hal ini menunjukkan seberapa pengaruh dari nilai $b$ terhadap $e$ atau dalam persamaan dihitung sebagai $\\frac{\\partial e}{\\partial b} = \\frac{\\partial e}{\\partial c} . \\frac{\\partial c}{\\partial b}$\n",
    "\n",
    "Mari lihat contoh lainnya"
   ]
  },
  {
   "cell_type": "code",
   "execution_count": null,
   "metadata": {
    "pycharm": {
     "name": "#%%\n"
    }
   },
   "outputs": [],
   "source": [
    "a = torch.tensor([2.], requires_grad=True)\n",
    "b = torch.tensor([3.], requires_grad=True)\n",
    "c = torch.tensor([4.], requires_grad=True)\n",
    "d = torch.tensor([5.], requires_grad=True)\n",
    "\n",
    "x = a + b\n",
    "y = c * d\n",
    "z = x * y\n",
    "x.retain_grad()\n",
    "y.retain_grad()\n",
    "z.retain_grad()\n",
    "\n",
    "print(f'Nilai x = {x}')\n",
    "print(f'Nilai y = {y}')\n",
    "print(f'Nilai z = {z}')\n",
    "\n",
    "z.backward()\n",
    "print(f'Nilai Gradient a = {a.grad}')\n",
    "print(f'Nilai Gradient b = {b.grad}')\n",
    "print(f'Nilai Gradient c = {c.grad}')\n",
    "print(f'Nilai Gradient d = {d.grad}')"
   ]
  },
  {
   "cell_type": "markdown",
   "metadata": {},
   "source": [
    "![comp_graph2](assets/compgraph2.jpeg)\n",
    "\n",
    "**Mengapa nilai gradient a terhadap z itu 20**\n",
    "Anda dapat mengujinya demikian:\n",
    "- $a$ bernilai 2\n",
    "- Kenaikan satu nilai dari $a$ akan mempengaruhi nilai $z$ dengan sebesar 20\n",
    "- Misalnya $a$ kita ubah menjadi 3, maka nilai $z$ akan bertambah sebanyak 20 menjadi 120\n",
    "\n",
    "Demikian juga untuk bagian-bagian lainnya"
   ]
  }
 ],
 "metadata": {
  "kernelspec": {
   "display_name": "Python 3",
   "language": "python",
   "name": "python3"
  },
  "language_info": {
   "codemirror_mode": {
    "name": "ipython",
    "version": 2
   },
   "file_extension": ".py",
   "mimetype": "text/x-python",
   "name": "python",
   "nbconvert_exporter": "python",
   "pygments_lexer": "ipython2",
   "version": "2.7.6"
  }
 },
 "nbformat": 4,
 "nbformat_minor": 0
}
