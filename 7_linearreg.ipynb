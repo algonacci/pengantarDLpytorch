{
 "cells": [
  {
   "cell_type": "markdown",
   "source": [
    "# Mencoba Implementasi Regresi Linear\n",
    "Sebelumnya kita telah mempelajari ide dari training, gradient descent, dan backpropagation. Pada bagian ini kita akan mencoba mengimplementasikan regresi linear, termasuk membahas tentang data pipeline, model, loss function, dan optimizer menggunakan stochastic gradient descent.\n",
    "\n",
    "### Import Library yang Digunakan"
   ],
   "metadata": {
    "collapsed": false
   }
  },
  {
   "cell_type": "code",
   "execution_count": 1,
   "metadata": {
    "collapsed": true
   },
   "outputs": [],
   "source": [
    "import random\n",
    "import torch\n",
    "import matplotlib.pyplot as plt"
   ]
  },
  {
   "cell_type": "markdown",
   "source": [
    "### Membuat fungsi untuk generate data sintesis\n",
    "Data sintetis yang dibuat dari fungsi ini adalah sebagai berikut:"
   ],
   "metadata": {
    "collapsed": false
   }
  },
  {
   "cell_type": "code",
   "execution_count": 2,
   "outputs": [],
   "source": [
    "def datasintetis(w, b, jumlah_data):\n",
    "    X = torch.normal(0, 1, (jumlah_data, len(w)))\n",
    "    y = torch.matmul(X, w) + b\n",
    "    y += torch.normal(0, 0.1, y.shape)\n",
    "    return X, y.reshape((-1, 1))"
   ],
   "metadata": {
    "collapsed": false,
    "pycharm": {
     "name": "#%%\n"
    }
   }
  },
  {
   "cell_type": "markdown",
   "source": [
    "### Menginisiasi nilai weight dan bias"
   ],
   "metadata": {
    "collapsed": false
   }
  },
  {
   "cell_type": "code",
   "execution_count": 12,
   "outputs": [
    {
     "name": "stdout",
     "output_type": "stream",
     "text": [
      "torch.Size([1000, 2]) torch.Size([1000, 1])\n"
     ]
    },
    {
     "data": {
      "text/plain": "<matplotlib.collections.PathCollection at 0x128488d30>"
     },
     "execution_count": 12,
     "metadata": {},
     "output_type": "execute_result"
    },
    {
     "data": {
      "text/plain": "<Figure size 432x288 with 1 Axes>",
      "image/png": "[encoded data removed]"
     },
     "metadata": {
      "needs_background": "light"
     },
     "output_type": "display_data"
    }
   ],
   "source": [
    "# w dan b asli hanya digunakan untuk generate data sintesis\n",
    "w_asli = torch.tensor([2, -3.4])\n",
    "b_asli = 4.2\n",
    "\n",
    "# generate data sintesis\n",
    "X, y = datasintetis(w_asli, b_asli, 1000)\n",
    "print(X.shape, y.shape)\n",
    "\n",
    "# scatter plot data sintesis\n",
    "plt.scatter(X[:, (1)].detach().numpy(), y.detach().numpy(), 1)"
   ],
   "metadata": {
    "collapsed": false,
    "pycharm": {
     "name": "#%%\n"
    }
   }
  },
  {
   "cell_type": "markdown",
   "source": [
    "### Membaca Dataset"
   ],
   "metadata": {
    "collapsed": false
   }
  },
  {
   "cell_type": "code",
   "execution_count": 24,
   "outputs": [
    {
     "name": "stdout",
     "output_type": "stream",
     "text": [
      "tensor([[ 1.2723, -1.1173],\n",
      "        [-0.2460,  0.9216],\n",
      "        [ 0.2172, -0.4112],\n",
      "        [-0.8918, -0.7843],\n",
      "        [ 1.6961,  0.3068],\n",
      "        [-1.5289,  1.0749],\n",
      "        [ 0.1610,  0.5516],\n",
      "        [-1.6959, -1.5278],\n",
      "        [-0.4608,  0.7742],\n",
      "        [ 1.0372,  1.4203]]) \n",
      " tensor([[10.4794],\n",
      "        [ 0.7674],\n",
      "        [ 5.8762],\n",
      "        [ 5.0323],\n",
      "        [ 6.6360],\n",
      "        [-2.5137],\n",
      "        [ 2.7582],\n",
      "        [ 6.0208],\n",
      "        [ 0.6454],\n",
      "        [ 1.4371]])\n"
     ]
    }
   ],
   "source": [
    "def memuat_data(batch_size, X, y):\n",
    "    # menghitung panjang data masukan\n",
    "    banyaknya_data = len(X)\n",
    "    # memberikan indeks dari data yang akan dijadikan mini-batch\n",
    "    indices = list(range(banyaknya_data))\n",
    "    # mengacak urutan data\n",
    "    random.shuffle(indices)\n",
    "\n",
    "    for i in range(0, banyaknya_data, batch_size):\n",
    "        batch_indices = torch.tensor(indices[i: min(i + batch_size, banyaknya_data)])\n",
    "        yield X[batch_indices], y[batch_indices]\n",
    "\n",
    "\n",
    "batch_size = 10\n",
    "\n",
    "for X, y in memuat_data(batch_size, X, y):\n",
    "    print(X, '\\n', y)"
   ],
   "metadata": {
    "collapsed": false,
    "pycharm": {
     "name": "#%%\n"
    }
   }
  },
  {
   "cell_type": "markdown",
   "source": [
    "Yield adalah salah satu cara kita untuk mengembalikan sebuah value dan menghentikan sementara eksekusi function yang sedang berjalan."
   ],
   "metadata": {
    "collapsed": false
   }
  },
  {
   "cell_type": "code",
   "execution_count": 16,
   "outputs": [
    {
     "name": "stdout",
     "output_type": "stream",
     "text": [
      "Hasil dari yield adalah:  1\n",
      "Hasil dari yield adalah:  2\n",
      "Hasil dari yield adalah:  3\n",
      "Hasil dari return adalah:  9\n"
     ]
    }
   ],
   "source": [
    "def simpleGeneratorFun():\n",
    "    yield 1\n",
    "    yield 2\n",
    "    yield 3\n",
    "\n",
    "\n",
    "for value in simpleGeneratorFun():\n",
    "    print(\"Hasil dari yield adalah: \", value)\n",
    "\n",
    "\n",
    "def simpleGenerator():\n",
    "    yield 9\n",
    "    return 8\n",
    "\n",
    "\n",
    "for value in simpleGenerator():\n",
    "    print(\"Hasil dari return adalah: \", value)"
   ],
   "metadata": {
    "collapsed": false,
    "pycharm": {
     "name": "#%%\n"
    }
   }
  },
  {
   "cell_type": "markdown",
   "source": [
    "### Inisiialisasi Weight, Bias, Model, Loss Function dan Optimizer"
   ],
   "metadata": {
    "collapsed": false,
    "pycharm": {
     "name": "#%% md\n"
    }
   }
  },
  {
   "cell_type": "code",
   "execution_count": 25,
   "outputs": [],
   "source": [
    "# inisiasi weight dan bias\n",
    "w = torch.normal(0, 0.01, size=(2, 1), requires_grad=True)\n",
    "b = torch.zeros(1, requires_grad=True)\n",
    "\n",
    "\n",
    "# menentukan model linear regression\n",
    "def linreg(X, w, b):\n",
    "    return torch.matmul(X, w) + b\n",
    "\n",
    "\n",
    "# menentukan loss function\n",
    "def squared_loss(y_hat, y):\n",
    "    return (y_hat - y.view(y_hat.shape)) ** 2 / 2\n",
    "\n",
    "\n",
    "# menentukan optimizer\n",
    "def sgd(params, lr, batch_size):\n",
    "    with torch.no_grad():\n",
    "        for param in params:\n",
    "            param -= lr * param.grad / batch_size\n",
    "            param.grad.zero_()"
   ],
   "metadata": {
    "collapsed": false,
    "pycharm": {
     "name": "#%%\n"
    }
   }
  },
  {
   "cell_type": "markdown",
   "source": [
    "### Melakukan Training"
   ],
   "metadata": {
    "collapsed": false
   }
  },
  {
   "cell_type": "code",
   "execution_count": 26,
   "outputs": [
    {
     "name": "stdout",
     "output_type": "stream",
     "text": [
      "Epoch 1, nilai loss: 133.39, nilai w: 0.03, nilai b: 0.04\n",
      "Epoch 2, nilai loss: 131.21, nilai w: 0.04, nilai b: 0.07\n",
      "Epoch 3, nilai loss: 129.07, nilai w: 0.06, nilai b: 0.11\n"
     ]
    }
   ],
   "source": [
    "# menentukan learning rate dan epoch\n",
    "lr = 0.01\n",
    "epoch = 3\n",
    "\n",
    "for epoch in range(epoch):\n",
    "    for X, y in memuat_data(batch_size, X, y):\n",
    "        # menghitung prediksi\n",
    "        nilai_loss = squared_loss(linreg(X, w, b), y)\n",
    "        # menghitung gradien\n",
    "        nilai_loss.sum().backward()\n",
    "        # mengupdate nilai weight dan bias\n",
    "        sgd([w, b], lr, batch_size)\n",
    "    with torch.no_grad():\n",
    "        # menampilkan nilai loss\n",
    "        print('Epoch {}, nilai loss: {:.2f}, nilai w: {:.2f}, nilai b: {:.2f}'\n",
    "              .format(epoch + 1, nilai_loss.sum().item(), w[0].item(), b.item()))"
   ],
   "metadata": {
    "collapsed": false,
    "pycharm": {
     "name": "#%%\n"
    }
   }
  },
  {
   "cell_type": "markdown",
   "source": [
    "Karena kita mengetahui nilai weight dan bias yang sesungguhnya, kita dapat mengkalkulasi prediksi yang benar dengan menggunakan model yang sudah kita buat."
   ],
   "metadata": {
    "collapsed": false
   }
  },
  {
   "cell_type": "code",
   "execution_count": 44,
   "outputs": [
    {
     "name": "stdout",
     "output_type": "stream",
     "text": [
      "Error dalam menghitung w:  [ 1.940784  -3.3344986]\n",
      "Error dalam menghitung b:  4.089587211608887\n"
     ]
    }
   ],
   "source": [
    "# Menghitung error terhadap nilai weight dan bias yang sesungguhnya\n",
    "print(\"Error dalam menghitung w: \", (w_asli - w.reshape(w_asli.shape)).data.numpy())\n",
    "print(\"Error dalam menghitung b: \", (b - b_asli).norm().item())"
   ],
   "metadata": {
    "collapsed": false,
    "pycharm": {
     "name": "#%%\n"
    }
   }
  }
 ],
 "metadata": {
  "kernelspec": {
   "display_name": "Python 3",
   "language": "python",
   "name": "python3"
  },
  "language_info": {
   "codemirror_mode": {
    "name": "ipython",
    "version": 2
   },
   "file_extension": ".py",
   "mimetype": "text/x-python",
   "name": "python",
   "nbconvert_exporter": "python",
   "pygments_lexer": "ipython2",
   "version": "2.7.6"
  }
 },
 "nbformat": 4,
 "nbformat_minor": 0
}