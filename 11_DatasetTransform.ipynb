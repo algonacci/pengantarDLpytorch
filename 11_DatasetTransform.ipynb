{
 "cells": [
  {
   "cell_type": "markdown",
   "metadata": {},
   "source": [
    "# Dataset Transformation\n",
    "\n",
    "**Bagian di bawah ini disalin dari file ```10_DatasetDataloader.ipynb```**"
   ]
  },
  {
   "cell_type": "code",
   "execution_count": null,
   "metadata": {},
   "outputs": [],
   "source": [
    "import torch\n",
    "from torch.utils.data import Dataset, DataLoader\n",
    "import numpy as np"
   ]
  },
  {
   "cell_type": "markdown",
   "metadata": {},
   "source": [
    "Pada bagian ini kita melakukan sedikit modifikasi:\n",
    "- Pada bagian ```def __init__```, kita menambahkan ```self.transform = transform```, juga tidak lupa pada bagian argumen ```transform```\n",
    "- Pada bagian ```def __getitem__```, kita menambahkan ```self.transform```"
   ]
  },
  {
   "cell_type": "code",
   "execution_count": null,
   "metadata": {},
   "outputs": [],
   "source": [
    "class WineDataset(Dataset):\n",
    "    def __init__(self, transform=None):\n",
    "        xy = np.loadtxt('wine_dataset/wine.csv', delimiter=',', dtype=np.float32,\n",
    "                        skiprows=1)  # skip row 1 karena row 1 adalah header\n",
    "        \n",
    "        self.n_samples = len(xy)\n",
    "        \n",
    "        self.x = xy[:, 1:]  # mengabaikan kolom indeks-0 karena kolom tersebut adalah kelasnya\n",
    "        self.y = xy[:, [0]]\n",
    "        \n",
    "        self.transform = transform\n",
    "\n",
    "    def __getitem__(self, index):\n",
    "        sample = self.x[index], self.y[index]\n",
    "        \n",
    "        if self.transform:\n",
    "            sample = self.transform(sample)\n",
    "        \n",
    "        return sample\n",
    "\n",
    "    def __len__(self):\n",
    "        return self.n_samples"
   ]
  },
  {
   "cell_type": "markdown",
   "metadata": {},
   "source": [
    "## Membuat ```class ToTensor()```\n",
    "- Kelas ini berfungsi untuk mengkonversikan nilai masukan dan target ke dalam bentuk tensor.\n",
    "- ```__call__``` adalah method bawaan dari python yang memungkinkan pengguna membuat kelas yang instancenya dapat dipanggil sebagai fungsi.\n",
    "- Lihat lebih lanjut penjelasannya pada [tautan berikut ini](https://www.geeksforgeeks.org/__call__-in-python/)"
   ]
  },
  {
   "cell_type": "code",
   "execution_count": null,
   "metadata": {},
   "outputs": [],
   "source": [
    "class ToTensor():\n",
    "    def __call__(self, sample):\n",
    "        x, y = sample\n",
    "        return torch.from_numpy(x), torch.from_numpy(y)\n",
    "\n",
    "dataset = WineDataset(transform=None)"
   ]
  },
  {
   "cell_type": "markdown",
   "metadata": {},
   "source": [
    "Mencoba mengambil sampel data awal. Dan pada bagian ini, tidak ada transformasi yang dilakukan"
   ]
  },
  {
   "cell_type": "code",
   "execution_count": null,
   "metadata": {},
   "outputs": [],
   "source": [
    "first_data = dataset[0]\n",
    "contoh_x, contoh_y = first_data\n",
    "print(contoh_x, contoh_y)\n",
    "print(contoh_x.shape, contoh_y.shape)\n",
    "print(type(contoh_x), type(contoh_y))"
   ]
  },
  {
   "cell_type": "markdown",
   "metadata": {},
   "source": [
    "## Membuat ```class MulTransform()```\n",
    "- Kelas ini berfungsi untuk mengalikan input dengan faktor pengali\n",
    "- Nilai kembalian dari fungsi ini adalah input (x) yang telah dikali dan target (y) yang tetap."
   ]
  },
  {
   "cell_type": "code",
   "execution_count": null,
   "metadata": {},
   "outputs": [],
   "source": [
    "class MulTransform:\n",
    "    def __init__(self, factor):\n",
    "        self.factor = factor\n",
    "        \n",
    "    def __call__(self, sample):\n",
    "        x, y = sample\n",
    "        x = x * self.factor\n",
    "        return x, y\n",
    "        "
   ]
  },
  {
   "cell_type": "markdown",
   "metadata": {},
   "source": [
    "## Membuat Beberapa Transformasi Menjadi Satu\n",
    "- Dapat diimplementasikan dengan ```torchvision.transforms.Compose```\n",
    "- Tujuannya adalah, kita menggabungkan transformasi yang kita buat pada kelas ```ToTensor``` dan ```MulTransform``` menjadi sebuah fungsi transformasi"
   ]
  },
  {
   "cell_type": "code",
   "execution_count": null,
   "metadata": {},
   "outputs": [],
   "source": [
    "import torchvision\n",
    "composed = torchvision.transforms.Compose([ToTensor(), MulTransform(2)])\n",
    "\n",
    "dataset = WineDataset(transform=composed)\n",
    "\n",
    "first_data = dataset[0]\n",
    "contoh_x, contoh_y = first_data\n",
    "print(contoh_x, contoh_y)\n",
    "print(contoh_x.shape, contoh_y.shape)\n",
    "print(type(contoh_x), type(contoh_y))"
   ]
  },
  {
   "cell_type": "markdown",
   "metadata": {},
   "source": [
    "Dapat kita amati beberapa hal:\n",
    "- Setelah menggunakan fungsi transformasi ```composed```, kita akan mendapatkan input dan target yang telah dikonversikan ke dalam bentuk tensor.\n",
    "- Nilai dari ```contoh_x``` dan ```contoh_y``` setelah ditransformasi juga berbeda dengan sebelum di transformasikan.\n",
    "- ```torchvision.transforms.Compose``` memungkinkan kita untuk menggabungkan beberapa fungsi transformasi."
   ]
  }
 ],
 "metadata": {
  "interpreter": {
   "hash": "81b9ccaf5ef21c8a6faa6d42f6e42fcf9eafd7625a2befdd601079168fccee32"
  },
  "kernelspec": {
   "display_name": "Python 3.8.13 ('py38')",
   "language": "python",
   "name": "python3"
  },
  "language_info": {
   "codemirror_mode": {
    "name": "ipython",
    "version": 3
   },
   "file_extension": ".py",
   "mimetype": "text/x-python",
   "name": "python",
   "nbconvert_exporter": "python",
   "pygments_lexer": "ipython3",
   "version": "3.8.13"
  }
 },
 "nbformat": 4,
 "nbformat_minor": 2
}
