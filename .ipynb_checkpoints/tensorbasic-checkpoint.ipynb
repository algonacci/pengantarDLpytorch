{
 "cells": [
  {
   "cell_type": "markdown",
   "metadata": {},
   "source": [
    "#Mengimpor library pytorch"
   ]
  },
  {
   "cell_type": "code",
   "execution_count": 2,
   "metadata": {
    "pycharm": {
     "name": "#%%\n"
    }
   },
   "outputs": [],
   "source": [
    "import torch"
   ]
  },
  {
   "cell_type": "markdown",
   "metadata": {},
   "source": [
    "Membuat variabel"
   ]
  },
  {
   "cell_type": "code",
   "execution_count": 4,
   "metadata": {
    "pycharm": {
     "name": "#%%\n"
    }
   },
   "outputs": [
    {
     "name": "stdout",
     "output_type": "stream",
     "text": [
      "tensor([[8.4078e-45, 0.0000e+00, 0.0000e+00, 0.0000e+00],\n",
      "        [0.0000e+00, 2.3694e-38, 0.0000e+00, 0.0000e+00]]) tensor([[[0.4973, 0.5988, 0.6155, 0.1656],\n",
      "         [0.5991, 0.0148, 0.4918, 0.3090],\n",
      "         [0.6537, 0.8037, 0.8249, 0.9469]],\n",
      "\n",
      "        [[0.1160, 0.2562, 0.6633, 0.2040],\n",
      "         [0.3554, 0.3530, 0.5810, 0.6367],\n",
      "         [0.6886, 0.1717, 0.3765, 0.5758]]]) tensor([[[1., 1., 1., 1.],\n",
      "         [1., 1., 1., 1.],\n",
      "         [1., 1., 1., 1.]],\n",
      "\n",
      "        [[1., 1., 1., 1.],\n",
      "         [1., 1., 1., 1.],\n",
      "         [1., 1., 1., 1.]]]) tensor([[0., 0., 0., 0., 0.],\n",
      "        [0., 0., 0., 0., 0.],\n",
      "        [0., 0., 0., 0., 0.],\n",
      "        [0., 0., 0., 0., 0.]])\n"
     ]
    }
   ],
   "source": [
    "# membuat variabel kosong dengan ukuran 2,4\n",
    "emptyvar = torch.empty(2, 4)\n",
    "# membuat variabel random dengan ukuran 2,3,4\n",
    "randomvar = torch.rand(2, 3, 4)\n",
    "# membuat variabel tensor dengan nilai 1 berukuran 2,3,4\n",
    "onesvar = torch.ones(2, 3, 4)\n",
    "# membuat variabel tensor dengan nilai 0 berukuran 4,5\n",
    "zerosvar = torch.zeros(4, 5)\n",
    "print(emptyvar, randomvar, onesvar, zerosvar)"
   ]
  },
  {
   "cell_type": "markdown",
   "metadata": {},
   "source": [
    "Membuat variabel tensor dengan tipe data spesifik"
   ]
  },
  {
   "cell_type": "code",
   "execution_count": null,
   "metadata": {
    "pycharm": {
     "is_executing": true,
     "name": "#%%\n"
    }
   },
   "outputs": [],
   "source": [
    "# membuat tensor dengan tipe data integer\n",
    "intvar = torch.ones(2, 2, dtype=torch.int)\n",
    "# membuat tensor dengan tipe data float\n",
    "floatvar = torch.rand(2, 2, dtype=torch.float)\n",
    "\n",
    "print(intvar, floatvar)\n",
    "print(intvar.dtype, floatvar.dtype)\n",
    "print(intvar.size(), floatvar.size())"
   ]
  },
  {
   "cell_type": "markdown",
   "metadata": {},
   "source": [
    "Operasi Aritmatika Dasar pada Tensor"
   ]
  },
  {
   "cell_type": "code",
   "execution_count": 4,
   "metadata": {
    "collapsed": true
   },
   "outputs": [
    {
     "name": "stdout",
     "output_type": "stream",
     "text": [
      "tensor([[ 2,  4,  6],\n",
      "        [ 8, 10, 12]])\n"
     ]
    }
   ],
   "source": [
    "# mengisi tensor dengan nilai\n",
    "var_a = torch.tensor([[1, 2, 3], [4, 5, 6]])\n",
    "# operasi aritmatika pada tensor\n",
    "var_b = torch.tensor([[1, 2, 3], [4, 5, 6]])\n",
    "var_c = var_a + var_b\n",
    "print(var_c)"
   ]
  },
  {
   "cell_type": "markdown",
   "metadata": {},
   "source": [
    "Cara Lain Operasi Penjumlahan"
   ]
  },
  {
   "cell_type": "code",
   "execution_count": 5,
   "metadata": {
    "pycharm": {
     "name": "#%%\n"
    }
   },
   "outputs": [
    {
     "name": "stdout",
     "output_type": "stream",
     "text": [
      "tensor([[ 2,  4,  6],\n",
      "        [ 8, 10, 12]])\n",
      "tensor([[ 2,  4,  6],\n",
      "        [ 8, 10, 12]])\n"
     ]
    }
   ],
   "source": [
    "# cara lain\n",
    "var_c = torch.add(var_a, var_b)\n",
    "print(var_c)\n",
    "\n",
    "# cara lain pada variabel yang sama\n",
    "var_a.add_(var_b)\n",
    "print(var_a)"
   ]
  }
 ],
 "metadata": {
  "kernelspec": {
   "display_name": "Python 3.8.11 64-bit ('py38': conda)",
   "language": "python",
   "name": "python3811jvsc74a57bd081b9ccaf5ef21c8a6faa6d42f6e42fcf9eafd7625a2befdd601079168fccee32"
  },
  "language_info": {
   "codemirror_mode": {
    "name": "ipython",
    "version": 3
   },
   "file_extension": ".py",
   "mimetype": "text/x-python",
   "name": "python",
   "nbconvert_exporter": "python",
   "pygments_lexer": "ipython3",
   "version": "3.8.11"
  }
 },
 "nbformat": 4,
 "nbformat_minor": 1
}
