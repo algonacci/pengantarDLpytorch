{
 "cells": [
  {
   "cell_type": "markdown",
   "source": [
    "# Backprogation\n",
    "Secara umum, terdapat tiga proses yang dibahas pada kode ini:\n",
    "- Forward pass: Menghitung loss\n",
    "- Menghitung local gradient\n",
    "- Backward pass: Menghitung dLoss / dWeight menggunakan chain rule\n",
    "\n",
    "**Perhatikan perhitungan graf komputasional di bawah ini**\n",
    "![Graf Komputasional](assets/forwardbackwardpass.jpeg)"
   ],
   "metadata": {
    "collapsed": false
   }
  },
  {
   "cell_type": "code",
   "execution_count": null,
   "metadata": {
    "collapsed": true
   },
   "outputs": [],
   "source": []
  }
 ],
 "metadata": {
  "kernelspec": {
   "display_name": "Python 3",
   "language": "python",
   "name": "python3"
  },
  "language_info": {
   "codemirror_mode": {
    "name": "ipython",
    "version": 2
   },
   "file_extension": ".py",
   "mimetype": "text/x-python",
   "name": "python",
   "nbconvert_exporter": "python",
   "pygments_lexer": "ipython2",
   "version": "2.7.6"
  }
 },
 "nbformat": 4,
 "nbformat_minor": 0
}