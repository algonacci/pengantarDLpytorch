{
 "cells": [
  {
   "cell_type": "markdown",
   "metadata": {},
   "source": [
    "# Dasar-dasar Operasi Tensor\n",
    "## Mengimpor library pytorch"
   ]
  },
  {
   "cell_type": "code",
   "execution_count": null,
   "metadata": {
    "pycharm": {
     "name": "#%%\n"
    }
   },
   "outputs": [],
   "source": [
    "import torch"
   ]
  },
  {
   "cell_type": "markdown",
   "metadata": {},
   "source": [
    "## Membuat variabel"
   ]
  },
  {
   "cell_type": "code",
   "execution_count": null,
   "metadata": {
    "pycharm": {
     "name": "#%%\n"
    }
   },
   "outputs": [],
   "source": [
    "# membuat variabel kosong dengan ukuran 2,4\n",
    "emptyvar = torch.empty(2, 4)\n",
    "# membuat variabel random dengan ukuran 2,3,4\n",
    "randomvar = torch.rand(2, 3, 4)\n",
    "# membuat variabel tensor dengan nilai 1 berukuran 2,3,4\n",
    "onesvar = torch.ones(2, 3, 4)\n",
    "# membuat variabel tensor dengan nilai 0 berukuran 4,5\n",
    "zerosvar = torch.zeros(4, 5)\n",
    "print(emptyvar, randomvar, onesvar, zerosvar)"
   ]
  },
  {
   "cell_type": "markdown",
   "metadata": {},
   "source": [
    "## Membuat variabel tensor dengan tipe data spesifik"
   ]
  },
  {
   "cell_type": "code",
   "execution_count": null,
   "metadata": {
    "pycharm": {
     "name": "#%%\n"
    }
   },
   "outputs": [],
   "source": [
    "# membuat tensor dengan tipe data integer\n",
    "intvar = torch.ones(2, 2, dtype=torch.int)\n",
    "# membuat tensor dengan tipe data float\n",
    "floatvar = torch.rand(2, 2, dtype=torch.float)\n",
    "\n",
    "print(intvar, floatvar)\n",
    "print(intvar.dtype, floatvar.dtype)\n",
    "print(intvar.size(), floatvar.size())"
   ]
  },
  {
   "cell_type": "markdown",
   "metadata": {},
   "source": [
    "## Operasi Aritmatika Dasar pada Tensor"
   ]
  },
  {
   "cell_type": "code",
   "execution_count": null,
   "metadata": {
    "collapsed": true
   },
   "outputs": [],
   "source": [
    "# mengisi tensor dengan nilai\n",
    "var_a = torch.tensor([[1, 2, 3], [4, 5, 6]])\n",
    "# operasi aritmatika pada tensor\n",
    "var_b = torch.tensor([[1, 2, 3], [4, 5, 6]])\n",
    "var_c = var_a + var_b\n",
    "print(var_c)"
   ]
  },
  {
   "cell_type": "markdown",
   "metadata": {},
   "source": [
    "## Cara Lain Operasi Penjumlahan"
   ]
  },
  {
   "cell_type": "code",
   "execution_count": null,
   "metadata": {
    "pycharm": {
     "name": "#%%\n"
    }
   },
   "outputs": [],
   "source": [
    "# cara lain\n",
    "var_c = torch.add(var_a, var_b)\n",
    "print(var_c)\n",
    "\n",
    "# cara lain pada variabel yang sama\n",
    "var_a.add_(var_b)\n",
    "print(var_a)"
   ]
  },
  {
   "cell_type": "markdown",
   "source": [
    "## Operasi lainnya"
   ],
   "metadata": {
    "collapsed": false,
    "pycharm": {
     "name": "#%% md\n"
    }
   }
  },
  {
   "cell_type": "code",
   "execution_count": null,
   "outputs": [],
   "source": [
    "x = torch.rand(2, 2)\n",
    "y = torch.rand(2, 2)\n",
    "\n",
    "z_kali = x * y\n",
    "z_kali_2 = torch.mul(x, y)\n",
    "\n",
    "z_bagi = x / y\n",
    "z_bagi_2 = torch.div(x, y)\n",
    "\n",
    "z_pengurangan = x - y\n",
    "z_pengurangan_2 = torch.sub(x, y)\n",
    "\n",
    "z_pangkat = x ** y\n",
    "z_pangkat_2 = torch.pow(x, y)"
   ],
   "metadata": {
    "collapsed": false,
    "pycharm": {
     "name": "#%%\n"
    }
   }
  },
  {
   "cell_type": "markdown",
   "source": [
    "## Manipulasi Matriks"
   ],
   "metadata": {
    "collapsed": false
   }
  },
  {
   "cell_type": "code",
   "execution_count": null,
   "outputs": [],
   "source": [
    "x = torch.rand(5, 3)\n",
    "print(x)\n",
    "print(x[:, 0])  # mencetak hanya kolom pertama\n",
    "print(x[0, :])  # mencetak hanya baris pertama\n",
    "print(x[1, 1])  # mencetak nilai pada baris ke-1 dan kolom ke-1\n",
    "print(x[1, 1].item())  # mencetak hanya nilai (tanpa identitas tensor)"
   ],
   "metadata": {
    "collapsed": false,
    "pycharm": {
     "name": "#%%\n"
    }
   }
  },
  {
   "cell_type": "markdown",
   "source": [
    "## Reshaping Matriks\n",
    "Mengubah matriks 2 dimensi menjadi array 1 dimensi"
   ],
   "metadata": {
    "collapsed": false
   }
  },
  {
   "cell_type": "code",
   "execution_count": null,
   "outputs": [],
   "source": [
    "x = torch.rand(4, 4)\n",
    "print(x)\n",
    "print(x.shape)\n",
    "y = x.view(16)\n",
    "print(y)\n",
    "print(y.shape)"
   ],
   "metadata": {
    "collapsed": false,
    "pycharm": {
     "name": "#%%\n"
    }
   }
  },
  {
   "cell_type": "markdown",
   "source": [
    "Cara lain untuk mentransformasikan matriks"
   ],
   "metadata": {
    "collapsed": false
   }
  },
  {
   "cell_type": "code",
   "execution_count": null,
   "outputs": [],
   "source": [
    "y = x.view(-1, 8)\n",
    "print(y)\n",
    "print(y.shape)"
   ],
   "metadata": {
    "collapsed": false,
    "pycharm": {
     "name": "#%%\n"
    }
   }
  },
  {
   "cell_type": "markdown",
   "source": [
    "## Konversi dari Numpy ke Tensor"
   ],
   "metadata": {
    "collapsed": false
   }
  },
  {
   "cell_type": "code",
   "execution_count": 24,
   "outputs": [
    {
     "name": "stdout",
     "output_type": "stream",
     "text": [
      "tensor([1., 1., 1., 1., 1.])\n",
      "[1. 1. 1. 1. 1.]\n",
      "<class 'numpy.ndarray'>\n"
     ]
    }
   ],
   "source": [
    "import numpy as np\n",
    "\n",
    "a = torch.ones(5)\n",
    "print(a)\n",
    "b = a.numpy()\n",
    "print(b)\n",
    "print(type(b))"
   ],
   "metadata": {
    "collapsed": false,
    "pycharm": {
     "name": "#%%\n"
    }
   }
  },
  {
   "cell_type": "markdown",
   "source": [
    "Perlu diperhatikan bahwa mengkonversi dari numpy ke tensor tidak membuat kopi, melainkan mengubah referensi dari numpy ke tensor.\n",
    "Nilai b akan berubah ketika kita melakukan modifikasi terhadap nilai a."
   ],
   "metadata": {
    "collapsed": false
   }
  },
  {
   "cell_type": "code",
   "execution_count": 25,
   "outputs": [
    {
     "name": "stdout",
     "output_type": "stream",
     "text": [
      "tensor([2., 2., 2., 2., 2.])\n",
      "[2. 2. 2. 2. 2.]\n"
     ]
    }
   ],
   "source": [
    "a.add_(1)\n",
    "print(a)\n",
    "print(b)"
   ],
   "metadata": {
    "collapsed": false,
    "pycharm": {
     "name": "#%%\n"
    }
   }
  },
  {
   "cell_type": "code",
   "execution_count": 29,
   "outputs": [
    {
     "name": "stdout",
     "output_type": "stream",
     "text": [
      "[1. 1. 1. 1. 1.]\n",
      "tensor([1., 1., 1., 1., 1.], dtype=torch.float64)\n",
      "[2. 2. 2. 2. 2.]\n",
      "tensor([1., 1., 1., 1., 1.], dtype=torch.float64)\n",
      "<class 'torch.Tensor'>\n"
     ]
    }
   ],
   "source": [
    "a = np.ones(5)\n",
    "print(a)\n",
    "b = torch.from_numpy(a)\n",
    "print(b)\n",
    "\n",
    "a = a + 1\n",
    "print(a)\n",
    "print(b)\n",
    "print(type(b))"
   ],
   "metadata": {
    "collapsed": false,
    "pycharm": {
     "name": "#%%\n"
    }
   }
  },
  {
   "cell_type": "markdown",
   "source": [
    "# Operasi Menggunakan GPU"
   ],
   "metadata": {
    "collapsed": false
   }
  },
  {
   "cell_type": "code",
   "execution_count": null,
   "outputs": [],
   "source": [
    "if torch.cuda.is_available():\n",
    "    # Mengatur nama device sebagai variabel\n",
    "    device = torch.device(\"cuda\")\n",
    "    # Membuat variabel tensor yang menggunakan device\n",
    "    x = torch.ones(5, device=device)\n",
    "\n",
    "    # Memindahkan variable yang sudah dibuat sebelumnya ke device\n",
    "    y = torch.ones(5)\n",
    "    y = y.to(device)\n",
    "\n",
    "    # Memindahkan kembali ke CPU\n",
    "    x = x.to(\"cpu\")"
   ],
   "metadata": {
    "collapsed": false,
    "pycharm": {
     "name": "#%%\n"
    }
   }
  },
  {
   "cell_type": "markdown",
   "source": [
    "# Mengaktifkan Variabel dengan Autograd"
   ],
   "metadata": {
    "collapsed": false,
    "pycharm": {
     "name": "#%% md\n"
    }
   }
  },
  {
   "cell_type": "code",
   "execution_count": 30,
   "outputs": [
    {
     "name": "stdout",
     "output_type": "stream",
     "text": [
      "tensor([[1., 1.],\n",
      "        [1., 1.]], requires_grad=True)\n"
     ]
    }
   ],
   "source": [
    "x = torch.ones(2, 2, requires_grad=True)\n",
    "print(x)"
   ],
   "metadata": {
    "collapsed": false,
    "pycharm": {
     "name": "#%%\n"
    }
   }
  }
 ],
 "metadata": {
  "kernelspec": {
   "display_name": "Python 3.8.11 64-bit ('py38': conda)",
   "language": "python",
   "name": "python3811jvsc74a57bd081b9ccaf5ef21c8a6faa6d42f6e42fcf9eafd7625a2befdd601079168fccee32"
  },
  "language_info": {
   "codemirror_mode": {
    "name": "ipython",
    "version": 3
   },
   "file_extension": ".py",
   "mimetype": "text/x-python",
   "name": "python",
   "nbconvert_exporter": "python",
   "pygments_lexer": "ipython3",
   "version": "3.8.11"
  }
 },
 "nbformat": 4,
 "nbformat_minor": 1
}