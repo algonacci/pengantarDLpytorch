{
 "cells": [
  {
   "cell_type": "markdown",
   "metadata": {},
   "source": [
    "# Logistic Regression\n",
    "### Definisi Logistic Regression\n",
    "Logistic Regression adalah model regresi yang menggunakan fungsi logistic. Model ini digunakan untuk memprediksi probabilitas dari kelas tertentu. Setiap probabilitas akan bernilai antara 0 dan 1 dengan total probabilitas yang bernilai 1.\n",
    "\n",
    "### Mengimpor Library yang Digunakan\n"
   ]
  },
  {
   "cell_type": "code",
   "execution_count": null,
   "metadata": {},
   "outputs": [],
   "source": [
    "import torch\n",
    "import torch.nn as nn\n",
    "import numpy as np\n",
    "from sklearn import datasets\n",
    "from sklearn.preprocessing import StandardScaler\n",
    "from sklearn.model_selection import train_test_split\n",
    "import matplotlib.pyplot as plt"
   ]
  },
  {
   "cell_type": "markdown",
   "metadata": {},
   "source": [
    "### Memuat Dataset\n",
    "Pada percobaan kali ini menggunakan dataset kanker payudara yang bersumber dari [UCI Machine Learning Repository](https://archive.ics.uci.edu/ml/datasets/Breast+Cancer+Wisconsin+%28Original%29) dan dapat diimpor melalui library sklearn."
   ]
  },
  {
   "cell_type": "code",
   "execution_count": null,
   "metadata": {
    "pycharm": {
     "name": "#%%\n"
    }
   },
   "outputs": [],
   "source": [
    "bc = datasets.load_breast_cancer()\n",
    "X, y = bc.data, bc.target\n",
    "n_samples, n_features = X.shape\n",
    "print(f\"Banyaknya sampel data: {n_samples} dan banyaknya fitur: {n_features}\")"
   ]
  },
  {
   "cell_type": "markdown",
   "metadata": {},
   "source": [
    "### Mencoba mencetak tabel dengan pandas\n",
    "Dengan menggunakan library pandas, kita dapat mencetak tabel yang berisi data dan target. Sebagai contoh, akan dicetak sebagian data, dengan 30 fitur (kolom) dan 10 sampel (baris)"
   ]
  },
  {
   "cell_type": "code",
   "execution_count": null,
   "metadata": {
    "pycharm": {
     "name": "#%%\n"
    }
   },
   "outputs": [],
   "source": [
    "\n",
    "import pandas as pd\n",
    "df = pd.DataFrame(X, columns=bc.feature_names)\n",
    "df['target'] = y\n",
    "df.head(10)"
   ]
  },
  {
   "cell_type": "markdown",
   "metadata": {},
   "source": []
  },
  {
   "cell_type": "markdown",
   "metadata": {},
   "source": [
    "### Training dan Testing Split\n",
    "Percobaan ini akan menggunakan 80% data dari dataset untuk keperluan training dan 20% data untuk keperluan testing. Untuk memisahkan data, digunakan fungsi ```train_test_split``` yang dapat diimpor dari library ```sklearn.model_selection```."
   ]
  },
  {
   "cell_type": "code",
   "execution_count": null,
   "metadata": {
    "pycharm": {
     "name": "#%%\n"
    }
   },
   "outputs": [],
   "source": [
    "X_train, X_test, y_train, y_test = train_test_split(X, y, test_size=0.2, random_state=42)\n",
    "print(f\"Banyaknya sampel untuk training: {X_train.shape[0]} dan banyaknya sampel untuk testing: {X_test.shape[0]}\")"
   ]
  },
  {
   "cell_type": "markdown",
   "metadata": {},
   "source": [
    "### Mencoba untuk memplot data training dan testing menggunakan fitur pertama dan kedua"
   ]
  },
  {
   "cell_type": "code",
   "execution_count": null,
   "metadata": {
    "pycharm": {
     "name": "#%%\n"
    }
   },
   "outputs": [],
   "source": [
    "plt.figure(figsize=(10, 6))\n",
    "plt.scatter(X_train[:, 0], X_train[:, 1], c=y_train, cmap='viridis', s=60, edgecolor='k')\n",
    "plt.scatter(X_test[:, 0], X_test[:, 1], c=y_test, cmap='viridis', s=60, edgecolor='k')\n",
    "plt.xlabel(\"Feature 1\")\n",
    "plt.ylabel(\"Feature 2\")\n",
    "plt.title(\"Data Training dan Data Testing\")\n",
    "plt.show()"
   ]
  },
  {
   "cell_type": "markdown",
   "metadata": {},
   "source": [
    "### Melakukan Transformasi Data"
   ]
  },
  {
   "cell_type": "code",
   "execution_count": null,
   "metadata": {
    "pycharm": {
     "name": "#%%\n"
    }
   },
   "outputs": [],
   "source": [
    "# membuat scaler untuk data training\n",
    "scaler = StandardScaler()\n",
    "# mentransformasikan data training dan testing\n",
    "X_train = scaler.fit_transform(X_train)\n",
    "X_test = scaler.transform(X_test)\n",
    "\n",
    "#plot data training dan testing\n",
    "plt.figure(figsize=(10, 6))\n",
    "plt.scatter(X_train[:, 0], X_train[:, 1], c=y_train, cmap='viridis', s=60, edgecolor='k')\n",
    "plt.scatter(X_test[:, 0], X_test[:, 1], c=y_test, cmap='viridis', s=60, edgecolor='k')\n",
    "plt.xlabel(\"Feature 1\")\n",
    "plt.ylabel(\"Feature 2\")\n",
    "plt.title(\"Data Training dan Data Testing Setelah di Transformasi\")\n",
    "plt.show()"
   ]
  },
  {
   "cell_type": "markdown",
   "metadata": {},
   "source": [
    "Dapat kita amati bahwa hasil plot data training dan testing setelah dilakukan scaler akan berubah. Proses ini disebut standarisasi data (data standardization), yaitu proses normalisasi data sehingga data memiliki mean=0 dan variance=1.\n",
    "\n",
    "- ```fit_transform``` digunakan untuk training data. Metode fit mengkalkulasi mean dan variance dari setiap fitur data. Transformasi ini mentransformasikan setiap fitur menggunakan mean dan variance yang telah dikalkulasi.\n",
    "- ```transform``` digunakan untuk data testing. Perbedaannya, transform menggunakan nilai mean dan variance yang telah dikalkulasi dari training data untuk ditransformasikan terhadap data testing.\n",
    "\n",
    "**Mengapa kita perlu melakukan ini?**\n",
    "Jika kita menggunakan metode ```fit_transform``` pada data testing, kita akan menghitung ulang mean dan varians. Ini adalah prosedur standar untuk menskalakan data pada saat membangun model pembelajaran mesin.\n"
   ]
  },
  {
   "cell_type": "markdown",
   "metadata": {},
   "source": [
    "### Persiapan Data Sebelum Training"
   ]
  },
  {
   "cell_type": "code",
   "execution_count": null,
   "metadata": {
    "pycharm": {
     "name": "#%%\n"
    }
   },
   "outputs": [],
   "source": [
    "# mengkonversi data training dan testing ke tensor\n",
    "X_train = torch.tensor(X_train, dtype=torch.float32)\n",
    "X_test = torch.tensor(X_test, dtype=torch.float32)\n",
    "y_train = torch.tensor(y_train, dtype=torch.float32)\n",
    "y_test = torch.tensor(y_test, dtype=torch.float32)\n",
    "\n",
    "# melakukan reshape terhadap y_test dan y_train\n",
    "y_train = y_train.view(-1, 1)\n",
    "y_test = y_test.view(-1, 1)"
   ]
  },
  {
   "cell_type": "markdown",
   "metadata": {},
   "source": [
    "### Membangun Model\n",
    "Model yang digunakan adalah logistic regression dengan menggunakan library ```torch.nn```. Sementara untuk fungsi aktivasi, kita menggunakan fungsi ```Sigmoid```. Fungsi sigmoid akan menghasilkan nilai keluaran 0 atau 1 berdasarkan dari nilai yang dihasilkan oleh fungsi."
   ]
  },
  {
   "cell_type": "code",
   "execution_count": null,
   "metadata": {
    "pycharm": {
     "name": "#%%\n"
    }
   },
   "outputs": [],
   "source": [
    "class LogisticRegression(nn.Module):\n",
    "    def __init__(self, input_size, output_size=1):\n",
    "        super(LogisticRegression, self).__init__()\n",
    "        self.linear = nn.Linear(input_size, output_size)\n",
    "\n",
    "    def forward(self, x):\n",
    "        y_predicted = torch.sigmoid(self.linear(x))\n",
    "        return y_predicted\n",
    "\n",
    "\n",
    "model = LogisticRegression(n_features)"
   ]
  },
  {
   "cell_type": "markdown",
   "metadata": {},
   "source": [
    "### Fungsi Loss dan Optimizer\n",
    "Fungsi loss yang digunakan adalah [Binary Cross Enthropy](https://pytorch.org/docs/stable/generated/torch.nn.BCELoss.html). Sementara itu, optimizer yang digunakan adalah [Stochastic Gradient Descent](https://pytorch.org/docs/stable/optim.html#torch.optim.SGD)."
   ]
  },
  {
   "cell_type": "code",
   "execution_count": null,
   "metadata": {
    "pycharm": {
     "name": "#%%\n"
    }
   },
   "outputs": [],
   "source": [
    "learning_rate = 0.01\n",
    "loss_function = nn.BCELoss()\n",
    "optimizer = torch.optim.SGD(model.parameters(), lr=learning_rate)"
   ]
  },
  {
   "cell_type": "markdown",
   "metadata": {},
   "source": [
    "### Training"
   ]
  },
  {
   "cell_type": "code",
   "execution_count": null,
   "metadata": {
    "pycharm": {
     "name": "#%%\n"
    }
   },
   "outputs": [],
   "source": [
    "# training loop\n",
    "num_epoch = 100\n",
    "for epoch in range(num_epoch):\n",
    "    # forward pass\n",
    "    y_predicted = model(X_train)\n",
    "    # backward pass\n",
    "    loss = loss_function(y_predicted, y_train)\n",
    "    loss.backward()\n",
    "    # perbarui weight\n",
    "    optimizer.step()\n",
    "    # reset optimizer jadi 0\n",
    "    optimizer.zero_grad()\n",
    "\n",
    "    # menampilkan loss setiap epoch\n",
    "    if (epoch+1) % 10 == 0:\n",
    "        print(f\"Epoch: {epoch+1}, Loss: {loss.item():.4f}\")"
   ]
  },
  {
   "cell_type": "markdown",
   "metadata": {},
   "source": [
    "### Mengevaluasi performa"
   ]
  },
  {
   "cell_type": "code",
   "execution_count": null,
   "metadata": {
    "pycharm": {
     "name": "#%%\n"
    }
   },
   "outputs": [],
   "source": [
    "with torch.no_grad():\n",
    "    y_predicted = model(X_test)\n",
    "    y_predicted_cls = y_predicted.round()\n",
    "    acc = y_predicted_cls.eq(y_test).sum().float() / y_test.shape[0]\n",
    "    print(f\"Akurasi: {acc.item():.4f}\")\n",
    "\n",
    "# perbandingkan antara y_test dan y_predicted_cls menggunakan pandas\n",
    "df_test = pd.DataFrame(y_test.numpy(), columns=['y_test'])\n",
    "df_test['y_predicted_cls'] = y_predicted_cls.numpy()\n",
    "df_test['Kesesuaian'] = df_test['y_test'] == df_test['y_predicted_cls']\n",
    "df_test"
   ]
  },
  {
   "cell_type": "code",
   "execution_count": null,
   "metadata": {
    "pycharm": {
     "name": "#%%\n"
    }
   },
   "outputs": [],
   "source": [
    "# cetak jumlah salah dan benar\n",
    "print(f\"Jumlah salah: {(df_test['Kesesuaian'] == False).sum()}\")\n",
    "print(f\"Jumlah benar: {(df_test['Kesesuaian'] == True).sum()}\")"
   ]
  },
  {
   "cell_type": "markdown",
   "metadata": {},
   "source": []
  }
 ],
 "metadata": {
  "kernelspec": {
   "display_name": "Python 3",
   "language": "python",
   "name": "python3"
  },
  "language_info": {
   "codemirror_mode": {
    "name": "ipython",
    "version": 2
   },
   "file_extension": ".py",
   "mimetype": "text/x-python",
   "name": "python",
   "nbconvert_exporter": "python",
   "pygments_lexer": "ipython2",
   "version": "2.7.6"
  }
 },
 "nbformat": 4,
 "nbformat_minor": 0
}
