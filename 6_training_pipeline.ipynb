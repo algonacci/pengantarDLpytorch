{
 "cells": [
  {
   "cell_type": "markdown",
   "source": [
    "# Training Pipeline\n",
    "## Mendesain Model"
   ],
   "metadata": {
    "collapsed": false
   }
  },
  {
   "cell_type": "code",
   "execution_count": 1,
   "metadata": {
    "collapsed": true
   },
   "outputs": [
    {
     "name": "stdout",
     "output_type": "stream",
     "text": [
      "4 1\n"
     ]
    }
   ],
   "source": [
    "# Mengimpor Library\n",
    "import torch\n",
    "import torch.nn as nn\n",
    "\n",
    "X = torch.tensor([[1], [2], [3], [4]], dtype=torch.float32)\n",
    "Y = torch.tensor([[2], [3], [4], [5]], dtype=torch.float32)\n",
    "\n",
    "n_samples, n_features = X.shape\n",
    "print(n_samples, n_features)\n",
    "\n",
    "input_size = n_features\n",
    "output_size = n_features"
   ]
  },
  {
   "cell_type": "code",
   "execution_count": 2,
   "outputs": [
    {
     "name": "stdout",
     "output_type": "stream",
     "text": [
      "Prediksi Awal: 16.799745559692383\n"
     ]
    }
   ],
   "source": [
    "# Mendesain Model\n",
    "model = nn.Linear(input_size, output_size)\n",
    "\n",
    "X_test = torch.tensor([[25]], dtype=torch.float32)\n",
    "print(f'Prediksi Awal: {model(X_test).item()}')"
   ],
   "metadata": {
    "collapsed": false,
    "pycharm": {
     "name": "#%%\n"
    }
   }
  },
  {
   "cell_type": "markdown",
   "source": [
    "## Merancang loss dan optimizer"
   ],
   "metadata": {
    "collapsed": false
   }
  },
  {
   "cell_type": "code",
   "execution_count": 3,
   "outputs": [],
   "source": [
    "def forward(x):\n",
    "    return x * w\n",
    "\n",
    "\n",
    "# Menggunakan loss function dari torch\n",
    "loss = nn.MSELoss()\n",
    "\n",
    "# Menggunakan optimizer dari torch\n",
    "optimizer = torch.optim.SGD(model.parameters(), lr=0.001)"
   ],
   "metadata": {
    "collapsed": false,
    "pycharm": {
     "name": "#%%\n"
    }
   }
  },
  {
   "cell_type": "markdown",
   "source": [
    "## Training Loop"
   ],
   "metadata": {
    "collapsed": false
   }
  },
  {
   "cell_type": "code",
   "execution_count": 4,
   "outputs": [
    {
     "name": "stdout",
     "output_type": "stream",
     "text": [
      "Epoch 1/1000\n",
      "Weight: 0.6388730406761169\n",
      "Bias: 0.9711964130401611\n",
      "Loss: 1.0662100315093994\n",
      "\n",
      "Epoch 51/1000\n",
      "Weight: 0.8285330533981323\n",
      "Bias: 1.0343070030212402\n",
      "Loss: 0.19881904125213623\n",
      "\n",
      "Epoch 101/1000\n",
      "Weight: 0.9104770421981812\n",
      "Bias: 1.060801386833191\n",
      "Loss: 0.037804678082466125\n",
      "\n",
      "Epoch 151/1000\n",
      "Weight: 0.9460121989250183\n",
      "Bias: 1.0715316534042358\n",
      "Loss: 0.007893916219472885\n",
      "\n",
      "Epoch 201/1000\n",
      "Weight: 0.9615501165390015\n",
      "Bias: 1.0754806995391846\n",
      "Loss: 0.002316660713404417\n",
      "\n",
      "Epoch 251/1000\n",
      "Weight: 0.96847003698349\n",
      "Bias: 1.0765180587768555\n",
      "Loss: 0.0012563755735754967\n",
      "\n",
      "Epoch 301/1000\n",
      "Weight: 0.9716735482215881\n",
      "Bias: 1.0763111114501953\n",
      "Loss: 0.0010352162644267082\n",
      "\n",
      "Epoch 351/1000\n",
      "Weight: 0.9732729196548462\n",
      "Bias: 1.075577735900879\n",
      "Loss: 0.0009705031989142299\n",
      "\n",
      "Epoch 401/1000\n",
      "Weight: 0.9741774797439575\n",
      "Bias: 1.0746272802352905\n",
      "Loss: 0.0009355341317132115\n",
      "\n",
      "Epoch 451/1000\n",
      "Weight: 0.9747802019119263\n",
      "Bias: 1.0735925436019897\n",
      "Loss: 0.0009067559149116278\n",
      "\n",
      "Epoch 501/1000\n",
      "Weight: 0.9752490520477295\n",
      "Bias: 1.0725306272506714\n",
      "Loss: 0.0008797829505056143\n",
      "\n",
      "Epoch 551/1000\n",
      "Weight: 0.97565758228302\n",
      "Bias: 1.0714662075042725\n",
      "Loss: 0.0008537782123312354\n",
      "\n",
      "Epoch 601/1000\n",
      "Weight: 0.9760368466377258\n",
      "Bias: 1.0704100131988525\n",
      "Loss: 0.0008285809890367091\n",
      "\n",
      "Epoch 651/1000\n",
      "Weight: 0.9764004349708557\n",
      "Bias: 1.0693663358688354\n",
      "Loss: 0.0008041388937272131\n",
      "\n",
      "Epoch 701/1000\n",
      "Weight: 0.9767544865608215\n",
      "Bias: 1.0683363676071167\n",
      "Loss: 0.0007804141496308148\n",
      "\n",
      "Epoch 751/1000\n",
      "Weight: 0.9771012663841248\n",
      "Bias: 1.067321538925171\n",
      "Loss: 0.0007573900511488318\n",
      "\n",
      "Epoch 801/1000\n",
      "Weight: 0.97744220495224\n",
      "Bias: 1.0663211345672607\n",
      "Loss: 0.0007350496598519385\n",
      "\n",
      "Epoch 851/1000\n",
      "Weight: 0.9777775406837463\n",
      "Bias: 1.0653358697891235\n",
      "Loss: 0.0007133667822927237\n",
      "\n",
      "Epoch 901/1000\n",
      "Weight: 0.978107750415802\n",
      "Bias: 1.0643649101257324\n",
      "Loss: 0.0006923229666426778\n",
      "\n",
      "Epoch 951/1000\n",
      "Weight: 0.9784332513809204\n",
      "Bias: 1.063408613204956\n",
      "Loss: 0.0006719031371176243\n",
      "\n"
     ]
    }
   ],
   "source": [
    "n_iters = 1000\n",
    "\n",
    "for epoch in range(n_iters):\n",
    "    # forward pass\n",
    "    y_pred = model(X)\n",
    "\n",
    "    # backward pass\n",
    "    l = loss(Y, y_pred)\n",
    "\n",
    "    # gradients\n",
    "    l.backward()\n",
    "\n",
    "    # memperbaharui weights\n",
    "    optimizer.step()\n",
    "\n",
    "    # menghapus gradient\n",
    "    optimizer.zero_grad()\n",
    "\n",
    "    # menyimpan bias dan weights\n",
    "    [w, b] = model.parameters()\n",
    "\n",
    "    # mencetak nilai weight, bias, dan loss dengan progress bar\n",
    "    if epoch % 50 == 0:\n",
    "        print(f'Epoch {epoch+1}/{n_iters}')\n",
    "        print(f'Weight: {w.item()}')\n",
    "        print(f'Bias: {b.item()}')\n",
    "        print(f'Loss: {l.item()}')\n",
    "        print()"
   ],
   "metadata": {
    "collapsed": false,
    "pycharm": {
     "name": "#%%\n"
    }
   }
  },
  {
   "cell_type": "code",
   "execution_count": 5,
   "outputs": [
    {
     "name": "stdout",
     "output_type": "stream",
     "text": [
      "Prediksi Akhir: 25.53116798400879\n"
     ]
    }
   ],
   "source": [
    "# prediksi setelah training\n",
    "print(f'Prediksi Akhir: {model(X_test).item()}')"
   ],
   "metadata": {
    "collapsed": false,
    "pycharm": {
     "name": "#%%\n"
    }
   }
  }
 ],
 "metadata": {
  "kernelspec": {
   "display_name": "Python 3",
   "language": "python",
   "name": "python3"
  },
  "language_info": {
   "codemirror_mode": {
    "name": "ipython",
    "version": 2
   },
   "file_extension": ".py",
   "mimetype": "text/x-python",
   "name": "python",
   "nbconvert_exporter": "python",
   "pygments_lexer": "ipython2",
   "version": "2.7.6"
  }
 },
 "nbformat": 4,
 "nbformat_minor": 0
}